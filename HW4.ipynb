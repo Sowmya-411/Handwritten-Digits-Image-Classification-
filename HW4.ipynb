{
 "cells": [
  {
   "cell_type": "markdown",
   "metadata": {},
   "source": []
  },
  {
   "cell_type": "markdown",
   "metadata": {},
   "source": []
  },
  {
   "cell_type": "markdown",
   "metadata": {},
   "source": [
    "* Investigating the handwritten digits dataset.\n",
    "* Sample images:\n",
    "<img src=\"Mnist.png\">\n",
    "\n",
    "* Please apply the folowing eight methods to classify the handwritten digits dataset.\n",
    "* Split the dataset into training sets and test sets\n",
    "* Fit the training data sets to the following eight algorithms\n",
    "* Print the classification report on the test data sets\n",
    "\n",
    "<h4>Method 1: KNN</h4>\n",
    "<h4>Method 2: Linear SVM</h4>\n",
    "<h4>Method 3: Gaussian Kernel SVM</h4>\n",
    "<h4>Method 4: Naive Bayes</h4>\n",
    "<h4>Method 5: Decision Tree</h4>   \n",
    "<h4>Method 6: Random Forest</h4> \n",
    "<h4>Method 7: Voting Classifier</h4> \n",
    "<h4>Method 8: Bagging</h4> "
   ]
  },
  {
   "cell_type": "code",
   "execution_count": 1,
   "metadata": {
    "scrolled": true
   },
   "outputs": [
    {
     "name": "stdout",
     "output_type": "stream",
     "text": [
      "{'data': array([[ 0.,  0.,  5., ...,  0.,  0.,  0.],\n",
      "       [ 0.,  0.,  0., ..., 10.,  0.,  0.],\n",
      "       [ 0.,  0.,  0., ..., 16.,  9.,  0.],\n",
      "       ...,\n",
      "       [ 0.,  0.,  1., ...,  6.,  0.,  0.],\n",
      "       [ 0.,  0.,  2., ..., 12.,  0.,  0.],\n",
      "       [ 0.,  0., 10., ..., 12.,  1.,  0.]]), 'target': array([0, 1, 2, ..., 8, 9, 8]), 'frame': None, 'feature_names': ['pixel_0_0', 'pixel_0_1', 'pixel_0_2', 'pixel_0_3', 'pixel_0_4', 'pixel_0_5', 'pixel_0_6', 'pixel_0_7', 'pixel_1_0', 'pixel_1_1', 'pixel_1_2', 'pixel_1_3', 'pixel_1_4', 'pixel_1_5', 'pixel_1_6', 'pixel_1_7', 'pixel_2_0', 'pixel_2_1', 'pixel_2_2', 'pixel_2_3', 'pixel_2_4', 'pixel_2_5', 'pixel_2_6', 'pixel_2_7', 'pixel_3_0', 'pixel_3_1', 'pixel_3_2', 'pixel_3_3', 'pixel_3_4', 'pixel_3_5', 'pixel_3_6', 'pixel_3_7', 'pixel_4_0', 'pixel_4_1', 'pixel_4_2', 'pixel_4_3', 'pixel_4_4', 'pixel_4_5', 'pixel_4_6', 'pixel_4_7', 'pixel_5_0', 'pixel_5_1', 'pixel_5_2', 'pixel_5_3', 'pixel_5_4', 'pixel_5_5', 'pixel_5_6', 'pixel_5_7', 'pixel_6_0', 'pixel_6_1', 'pixel_6_2', 'pixel_6_3', 'pixel_6_4', 'pixel_6_5', 'pixel_6_6', 'pixel_6_7', 'pixel_7_0', 'pixel_7_1', 'pixel_7_2', 'pixel_7_3', 'pixel_7_4', 'pixel_7_5', 'pixel_7_6', 'pixel_7_7'], 'target_names': array([0, 1, 2, 3, 4, 5, 6, 7, 8, 9]), 'images': array([[[ 0.,  0.,  5., ...,  1.,  0.,  0.],\n",
      "        [ 0.,  0., 13., ..., 15.,  5.,  0.],\n",
      "        [ 0.,  3., 15., ..., 11.,  8.,  0.],\n",
      "        ...,\n",
      "        [ 0.,  4., 11., ..., 12.,  7.,  0.],\n",
      "        [ 0.,  2., 14., ..., 12.,  0.,  0.],\n",
      "        [ 0.,  0.,  6., ...,  0.,  0.,  0.]],\n",
      "\n",
      "       [[ 0.,  0.,  0., ...,  5.,  0.,  0.],\n",
      "        [ 0.,  0.,  0., ...,  9.,  0.,  0.],\n",
      "        [ 0.,  0.,  3., ...,  6.,  0.,  0.],\n",
      "        ...,\n",
      "        [ 0.,  0.,  1., ...,  6.,  0.,  0.],\n",
      "        [ 0.,  0.,  1., ...,  6.,  0.,  0.],\n",
      "        [ 0.,  0.,  0., ..., 10.,  0.,  0.]],\n",
      "\n",
      "       [[ 0.,  0.,  0., ..., 12.,  0.,  0.],\n",
      "        [ 0.,  0.,  3., ..., 14.,  0.,  0.],\n",
      "        [ 0.,  0.,  8., ..., 16.,  0.,  0.],\n",
      "        ...,\n",
      "        [ 0.,  9., 16., ...,  0.,  0.,  0.],\n",
      "        [ 0.,  3., 13., ..., 11.,  5.,  0.],\n",
      "        [ 0.,  0.,  0., ..., 16.,  9.,  0.]],\n",
      "\n",
      "       ...,\n",
      "\n",
      "       [[ 0.,  0.,  1., ...,  1.,  0.,  0.],\n",
      "        [ 0.,  0., 13., ...,  2.,  1.,  0.],\n",
      "        [ 0.,  0., 16., ..., 16.,  5.,  0.],\n",
      "        ...,\n",
      "        [ 0.,  0., 16., ..., 15.,  0.,  0.],\n",
      "        [ 0.,  0., 15., ..., 16.,  0.,  0.],\n",
      "        [ 0.,  0.,  2., ...,  6.,  0.,  0.]],\n",
      "\n",
      "       [[ 0.,  0.,  2., ...,  0.,  0.,  0.],\n",
      "        [ 0.,  0., 14., ..., 15.,  1.,  0.],\n",
      "        [ 0.,  4., 16., ..., 16.,  7.,  0.],\n",
      "        ...,\n",
      "        [ 0.,  0.,  0., ..., 16.,  2.,  0.],\n",
      "        [ 0.,  0.,  4., ..., 16.,  2.,  0.],\n",
      "        [ 0.,  0.,  5., ..., 12.,  0.,  0.]],\n",
      "\n",
      "       [[ 0.,  0., 10., ...,  1.,  0.,  0.],\n",
      "        [ 0.,  2., 16., ...,  1.,  0.,  0.],\n",
      "        [ 0.,  0., 15., ..., 15.,  0.,  0.],\n",
      "        ...,\n",
      "        [ 0.,  4., 16., ..., 16.,  6.,  0.],\n",
      "        [ 0.,  8., 16., ..., 16.,  8.,  0.],\n",
      "        [ 0.,  1.,  8., ..., 12.,  1.,  0.]]]), 'DESCR': \".. _digits_dataset:\\n\\nOptical recognition of handwritten digits dataset\\n--------------------------------------------------\\n\\n**Data Set Characteristics:**\\n\\n    :Number of Instances: 5620\\n    :Number of Attributes: 64\\n    :Attribute Information: 8x8 image of integer pixels in the range 0..16.\\n    :Missing Attribute Values: None\\n    :Creator: E. Alpaydin (alpaydin '@' boun.edu.tr)\\n    :Date: July; 1998\\n\\nThis is a copy of the test set of the UCI ML hand-written digits datasets\\nhttps://archive.ics.uci.edu/ml/datasets/Optical+Recognition+of+Handwritten+Digits\\n\\nThe data set contains images of hand-written digits: 10 classes where\\neach class refers to a digit.\\n\\nPreprocessing programs made available by NIST were used to extract\\nnormalized bitmaps of handwritten digits from a preprinted form. From a\\ntotal of 43 people, 30 contributed to the training set and different 13\\nto the test set. 32x32 bitmaps are divided into nonoverlapping blocks of\\n4x4 and the number of on pixels are counted in each block. This generates\\nan input matrix of 8x8 where each element is an integer in the range\\n0..16. This reduces dimensionality and gives invariance to small\\ndistortions.\\n\\nFor info on NIST preprocessing routines, see M. D. Garris, J. L. Blue, G.\\nT. Candela, D. L. Dimmick, J. Geist, P. J. Grother, S. A. Janet, and C.\\nL. Wilson, NIST Form-Based Handprint Recognition System, NISTIR 5469,\\n1994.\\n\\n.. topic:: References\\n\\n  - C. Kaynak (1995) Methods of Combining Multiple Classifiers and Their\\n    Applications to Handwritten Digit Recognition, MSc Thesis, Institute of\\n    Graduate Studies in Science and Engineering, Bogazici University.\\n  - E. Alpaydin, C. Kaynak (1998) Cascading Classifiers, Kybernetika.\\n  - Ken Tang and Ponnuthurai N. Suganthan and Xi Yao and A. Kai Qin.\\n    Linear dimensionalityreduction using relevance weighted LDA. School of\\n    Electrical and Electronic Engineering Nanyang Technological University.\\n    2005.\\n  - Claudio Gentile. A New Approximate Maximal Margin Classification\\n    Algorithm. NIPS. 2000.\"}\n"
     ]
    }
   ],
   "source": [
    "# Importing the dataset\n",
    "from sklearn.datasets import load_digits\n",
    "digits = load_digits()\n",
    "print(digits)"
   ]
  },
  {
   "cell_type": "code",
   "execution_count": 3,
   "metadata": {},
   "outputs": [
    {
     "name": "stdout",
     "output_type": "stream",
     "text": [
      "dict_keys(['data', 'target', 'frame', 'feature_names', 'target_names', 'images', 'DESCR'])\n",
      ".. _digits_dataset:\n",
      "\n",
      "Optical recognition of handwritten digits dataset\n",
      "--------------------------------------------------\n",
      "\n",
      "**Data Set Characteristics:**\n",
      "\n",
      "    :Number of Instances: 5620\n",
      "    :Number of Attributes: 64\n",
      "    :Attribute Information: 8x8 image of integer pixels in the range 0..16.\n",
      "    :Missing Attribute Values: None\n",
      "    :Creator: E. Alpaydin (alpaydin '@' boun.edu.tr)\n",
      "    :Date: July; 1998\n",
      "\n",
      "This is a copy of the test set of the UCI ML hand-written digits datasets\n",
      "https://archive.ics.uci.edu/ml/datasets/Optical+Recognition+of+Handwritten+Digits\n",
      "\n",
      "The data set contains images of hand-written digits: 10 classes where\n",
      "each class refers to a digit.\n",
      "\n",
      "Preprocessing programs made available by NIST were used to extract\n",
      "normalized bitmaps of handwritten digits from a preprinted form. From a\n",
      "total of 43 people, 30 contributed to the training set and different 13\n",
      "to the test set. 32x32 bitmaps are divided into nonoverlapping blocks of\n",
      "4x4 and the number of on pixels are counted in each block. This generates\n",
      "an input matrix of 8x8 where each element is an integer in the range\n",
      "0..16. This reduces dimensionality and gives invariance to small\n",
      "distortions.\n",
      "\n",
      "For info on NIST preprocessing routines, see M. D. Garris, J. L. Blue, G.\n",
      "T. Candela, D. L. Dimmick, J. Geist, P. J. Grother, S. A. Janet, and C.\n",
      "L. Wilson, NIST Form-Based Handprint Recognition System, NISTIR 5469,\n",
      "1994.\n",
      "\n",
      ".. topic:: References\n",
      "\n",
      "  - C. Kaynak (1995) Methods of Combining Multiple Classifiers and Their\n",
      "    Applications to Handwritten Digit Recognition, MSc Thesis, Institute of\n",
      "    Graduate Studies in Science and Engineering, Bogazici University.\n",
      "  - E. Alpaydin, C. Kaynak (1998) Cascading Classifiers, Kybernetika.\n",
      "  - Ken Tang and Ponnuthurai N. Suganthan and Xi Yao and A. Kai Qin.\n",
      "    Linear dimensionalityreduction using relevance weighted LDA. School of\n",
      "    Electrical and Electronic Engineering Nanyang Technological University.\n",
      "    2005.\n",
      "  - Claudio Gentile. A New Approximate Maximal Margin Classification\n",
      "    Algorithm. NIPS. 2000.\n"
     ]
    }
   ],
   "source": [
    "print(digits.keys())\n",
    "print(digits.DESCR)"
   ]
  },
  {
   "cell_type": "code",
   "execution_count": 4,
   "metadata": {},
   "outputs": [
    {
     "name": "stdout",
     "output_type": "stream",
     "text": [
      "       0    1     2     3     4     5    6    7    8    9   ...   54   55  \\\n",
      "0     0.0  0.0   5.0  13.0   9.0   1.0  0.0  0.0  0.0  0.0  ...  0.0  0.0   \n",
      "1     0.0  0.0   0.0  12.0  13.0   5.0  0.0  0.0  0.0  0.0  ...  0.0  0.0   \n",
      "2     0.0  0.0   0.0   4.0  15.0  12.0  0.0  0.0  0.0  0.0  ...  5.0  0.0   \n",
      "3     0.0  0.0   7.0  15.0  13.0   1.0  0.0  0.0  0.0  8.0  ...  9.0  0.0   \n",
      "4     0.0  0.0   0.0   1.0  11.0   0.0  0.0  0.0  0.0  0.0  ...  0.0  0.0   \n",
      "...   ...  ...   ...   ...   ...   ...  ...  ...  ...  ...  ...  ...  ...   \n",
      "1792  0.0  0.0   4.0  10.0  13.0   6.0  0.0  0.0  0.0  1.0  ...  4.0  0.0   \n",
      "1793  0.0  0.0   6.0  16.0  13.0  11.0  1.0  0.0  0.0  0.0  ...  1.0  0.0   \n",
      "1794  0.0  0.0   1.0  11.0  15.0   1.0  0.0  0.0  0.0  0.0  ...  0.0  0.0   \n",
      "1795  0.0  0.0   2.0  10.0   7.0   0.0  0.0  0.0  0.0  0.0  ...  2.0  0.0   \n",
      "1796  0.0  0.0  10.0  14.0   8.0   1.0  0.0  0.0  0.0  2.0  ...  8.0  0.0   \n",
      "\n",
      "       56   57   58    59    60    61   62   63  \n",
      "0     0.0  0.0  6.0  13.0  10.0   0.0  0.0  0.0  \n",
      "1     0.0  0.0  0.0  11.0  16.0  10.0  0.0  0.0  \n",
      "2     0.0  0.0  0.0   3.0  11.0  16.0  9.0  0.0  \n",
      "3     0.0  0.0  7.0  13.0  13.0   9.0  0.0  0.0  \n",
      "4     0.0  0.0  0.0   2.0  16.0   4.0  0.0  0.0  \n",
      "...   ...  ...  ...   ...   ...   ...  ...  ...  \n",
      "1792  0.0  0.0  2.0  14.0  15.0   9.0  0.0  0.0  \n",
      "1793  0.0  0.0  6.0  16.0  14.0   6.0  0.0  0.0  \n",
      "1794  0.0  0.0  2.0   9.0  13.0   6.0  0.0  0.0  \n",
      "1795  0.0  0.0  5.0  12.0  16.0  12.0  0.0  0.0  \n",
      "1796  0.0  1.0  8.0  12.0  14.0  12.0  1.0  0.0  \n",
      "\n",
      "[1797 rows x 64 columns]\n"
     ]
    }
   ],
   "source": [
    "import pandas as pd\n",
    "df=pd.DataFrame(digits['data'])\n",
    "print(df)"
   ]
  },
  {
   "cell_type": "code",
   "execution_count": 5,
   "metadata": {},
   "outputs": [
    {
     "name": "stdout",
     "output_type": "stream",
     "text": [
      "[[[ 0.  0.  5. ...  1.  0.  0.]\n",
      "  [ 0.  0. 13. ... 15.  5.  0.]\n",
      "  [ 0.  3. 15. ... 11.  8.  0.]\n",
      "  ...\n",
      "  [ 0.  4. 11. ... 12.  7.  0.]\n",
      "  [ 0.  2. 14. ... 12.  0.  0.]\n",
      "  [ 0.  0.  6. ...  0.  0.  0.]]\n",
      "\n",
      " [[ 0.  0.  0. ...  5.  0.  0.]\n",
      "  [ 0.  0.  0. ...  9.  0.  0.]\n",
      "  [ 0.  0.  3. ...  6.  0.  0.]\n",
      "  ...\n",
      "  [ 0.  0.  1. ...  6.  0.  0.]\n",
      "  [ 0.  0.  1. ...  6.  0.  0.]\n",
      "  [ 0.  0.  0. ... 10.  0.  0.]]\n",
      "\n",
      " [[ 0.  0.  0. ... 12.  0.  0.]\n",
      "  [ 0.  0.  3. ... 14.  0.  0.]\n",
      "  [ 0.  0.  8. ... 16.  0.  0.]\n",
      "  ...\n",
      "  [ 0.  9. 16. ...  0.  0.  0.]\n",
      "  [ 0.  3. 13. ... 11.  5.  0.]\n",
      "  [ 0.  0.  0. ... 16.  9.  0.]]\n",
      "\n",
      " ...\n",
      "\n",
      " [[ 0.  0.  1. ...  1.  0.  0.]\n",
      "  [ 0.  0. 13. ...  2.  1.  0.]\n",
      "  [ 0.  0. 16. ... 16.  5.  0.]\n",
      "  ...\n",
      "  [ 0.  0. 16. ... 15.  0.  0.]\n",
      "  [ 0.  0. 15. ... 16.  0.  0.]\n",
      "  [ 0.  0.  2. ...  6.  0.  0.]]\n",
      "\n",
      " [[ 0.  0.  2. ...  0.  0.  0.]\n",
      "  [ 0.  0. 14. ... 15.  1.  0.]\n",
      "  [ 0.  4. 16. ... 16.  7.  0.]\n",
      "  ...\n",
      "  [ 0.  0.  0. ... 16.  2.  0.]\n",
      "  [ 0.  0.  4. ... 16.  2.  0.]\n",
      "  [ 0.  0.  5. ... 12.  0.  0.]]\n",
      "\n",
      " [[ 0.  0. 10. ...  1.  0.  0.]\n",
      "  [ 0.  2. 16. ...  1.  0.  0.]\n",
      "  [ 0.  0. 15. ... 15.  0.  0.]\n",
      "  ...\n",
      "  [ 0.  4. 16. ... 16.  6.  0.]\n",
      "  [ 0.  8. 16. ... 16.  8.  0.]\n",
      "  [ 0.  1.  8. ... 12.  1.  0.]]]\n",
      "(1797, 8, 8)\n"
     ]
    }
   ],
   "source": [
    "print(digits['images'])\n",
    "print(digits['images'].shape)"
   ]
  },
  {
   "cell_type": "code",
   "execution_count": 9,
   "metadata": {},
   "outputs": [
    {
     "name": "stdout",
     "output_type": "stream",
     "text": [
      "0 10\n",
      "1 100\n",
      "2 100\n",
      "3 45\n"
     ]
    },
    {
     "data": {
      "image/png": "[encoded data removed]",
      "text/plain": [
       "<Figure size 432x288 with 4 Axes>"
      ]
     },
     "metadata": {
      "needs_background": "light"
     },
     "output_type": "display_data"
    }
   ],
   "source": [
    "import matplotlib.pyplot as plt\n",
    "digits.images[0].shape\n",
    "list = [10,100,100,45]\n",
    "fig = plt.figure()\n",
    "for i,img in enumerate(list):\n",
    "    print(i,img)\n",
    "    plt.subplot(2,2,i+1)\n",
    "    plt.imshow(digits.images[img],cmap='gray')"
   ]
  },
  {
   "cell_type": "code",
   "execution_count": 10,
   "metadata": {},
   "outputs": [
    {
     "data": {
      "image/png": "[encoded data removed]",
      "text/plain": [
       "<Figure size 432x288 with 1 Axes>"
      ]
     },
     "metadata": {
      "needs_background": "light"
     },
     "output_type": "display_data"
    }
   ],
   "source": [
    "import matplotlib.pyplot as plt\n",
    "def displayImage(i):\n",
    "    plt.imshow(digits['images'][i],cmap='Oranges')\n",
    "    plt.title(\"Number:\"+str(digits['target'][i]))\n",
    "    plt.show()\n",
    "\n",
    "displayImage(100)"
   ]
  },
  {
   "cell_type": "code",
   "execution_count": 12,
   "metadata": {},
   "outputs": [
    {
     "data": {
      "text/plain": [
       "(1797, 8, 8)"
      ]
     },
     "execution_count": 12,
     "metadata": {},
     "output_type": "execute_result"
    }
   ],
   "source": [
    "digits.images.shape"
   ]
  },
  {
   "cell_type": "code",
   "execution_count": 13,
   "metadata": {
    "scrolled": true
   },
   "outputs": [
    {
     "data": {
      "text/plain": [
       "array([[ 0.,  0.,  5., 13.,  9.,  1.,  0.,  0.],\n",
       "       [ 0.,  0., 13., 15., 10., 15.,  5.,  0.],\n",
       "       [ 0.,  3., 15.,  2.,  0., 11.,  8.,  0.],\n",
       "       [ 0.,  4., 12.,  0.,  0.,  8.,  8.,  0.],\n",
       "       [ 0.,  5.,  8.,  0.,  0.,  9.,  8.,  0.],\n",
       "       [ 0.,  4., 11.,  0.,  1., 12.,  7.,  0.],\n",
       "       [ 0.,  2., 14.,  5., 10., 12.,  0.,  0.],\n",
       "       [ 0.,  0.,  6., 13., 10.,  0.,  0.,  0.]])"
      ]
     },
     "execution_count": 13,
     "metadata": {},
     "output_type": "execute_result"
    }
   ],
   "source": [
    "digits.images[0]"
   ]
  },
  {
   "cell_type": "code",
   "execution_count": 15,
   "metadata": {},
   "outputs": [
    {
     "name": "stdout",
     "output_type": "stream",
     "text": [
      "[[ 0.  0.  5. ...  0.  0.  0.]\n",
      " [ 0.  0.  0. ... 10.  0.  0.]\n",
      " [ 0.  0.  0. ... 16.  9.  0.]\n",
      " ...\n",
      " [ 0.  0.  1. ...  6.  0.  0.]\n",
      " [ 0.  0.  2. ... 12.  0.  0.]\n",
      " [ 0.  0. 10. ... 12.  1.  0.]]\n",
      "[0 1 2 ... 8 9 8]\n",
      "(1797, 64)\n",
      "(1797,)\n"
     ]
    }
   ],
   "source": [
    "#X=digits['data']\n",
    "#y=digits['target']\n",
    "X =  digits.data\n",
    "y =  digits.target\n",
    "print(X)\n",
    "print(y)\n",
    "print(X.shape)\n",
    "print(y.shape)"
   ]
  },
  {
   "cell_type": "code",
   "execution_count": 16,
   "metadata": {},
   "outputs": [
    {
     "data": {
      "text/plain": [
       "Text(0.5, 1.0, 'Number :3')"
      ]
     },
     "execution_count": 16,
     "metadata": {},
     "output_type": "execute_result"
    },
    {
     "data": {
      "image/png": "[encoded data removed]",
      "text/plain": [
       "<Figure size 432x288 with 1 Axes>"
      ]
     },
     "metadata": {
      "needs_background": "light"
     },
     "output_type": "display_data"
    }
   ],
   "source": [
    "import matplotlib.pyplot as plt\n",
    "plt.imshow(digits.images[45],cmap='Oranges')\n",
    "plt.title(\"Number :\"+ str(y[45]))"
   ]
  },
  {
   "cell_type": "code",
   "execution_count": 17,
   "metadata": {},
   "outputs": [
    {
     "data": {
      "image/png": "[encoded data removed]",
      "text/plain": [
       "<Figure size 1080x576 with 30 Axes>"
      ]
     },
     "metadata": {
      "needs_background": "light"
     },
     "output_type": "display_data"
    }
   ],
   "source": [
    "import matplotlib.pyplot as plt\n",
    "figure,axes=plt.subplots(3,10,figsize=(15,8))\n",
    "for ax,img,num in zip(axes.ravel(),digits.images,y):\n",
    "    #print(ax,img,num)\n",
    "    ax.imshow(img,cmap='gray')\n",
    "    ax.set_title(\"Number:\"+str(num))"
   ]
  },
  {
   "cell_type": "markdown",
   "metadata": {
    "collapsed": true
   },
   "source": [
    "## Step 1. Split the dataset into training data and testing data (<mark>10 points</mark>)"
   ]
  },
  {
   "cell_type": "code",
   "execution_count": 19,
   "metadata": {},
   "outputs": [],
   "source": [
    "from sklearn.model_selection import train_test_split\n",
    "X_train, X_test, y_train, y_test = train_test_split(X, y, test_size = 1/3, random_state =0, stratify = y)\n"
   ]
  },
  {
   "cell_type": "code",
   "execution_count": 20,
   "metadata": {},
   "outputs": [
    {
     "name": "stdout",
     "output_type": "stream",
     "text": [
      "(1198, 64)\n",
      "(599, 64)\n",
      "(1198,)\n",
      "(599,)\n"
     ]
    }
   ],
   "source": [
    "print(X_train.shape)\n",
    "print(X_test.shape)\n",
    "print(y_train.shape)\n",
    "print(y_test.shape)"
   ]
  },
  {
   "cell_type": "markdown",
   "metadata": {},
   "source": [
    "## Step 2. Algorithm Analysis (<mark>80 points</mark>)"
   ]
  },
  {
   "cell_type": "markdown",
   "metadata": {},
   "source": [
    "## Method 1. KNN"
   ]
  },
  {
   "cell_type": "code",
   "execution_count": 21,
   "metadata": {},
   "outputs": [
    {
     "data": {
      "text/plain": [
       "KNeighborsClassifier(n_neighbors=3)"
      ]
     },
     "execution_count": 21,
     "metadata": {},
     "output_type": "execute_result"
    }
   ],
   "source": [
    "from sklearn.neighbors import KNeighborsClassifier\n",
    "classifier = KNeighborsClassifier(n_neighbors = 3, p = 2)\n",
    "# Fitting classifier to the Training set\n",
    "classifier.fit(X_train,y_train)\n",
    "\n"
   ]
  },
  {
   "cell_type": "code",
   "execution_count": 22,
   "metadata": {},
   "outputs": [
    {
     "data": {
      "image/png": "[encoded data removed]",
      "text/plain": [
       "<Figure size 432x288 with 1 Axes>"
      ]
     },
     "metadata": {
      "needs_background": "light"
     },
     "output_type": "display_data"
    }
   ],
   "source": [
    "import numpy as np\n",
    "test=np.array(digits['data'][1776])\n",
    "test1=test.reshape(1,-1)\n",
    "displayImage(1776)"
   ]
  },
  {
   "cell_type": "code",
   "execution_count": 23,
   "metadata": {},
   "outputs": [
    {
     "name": "stdout",
     "output_type": "stream",
     "text": [
      "[5]\n"
     ]
    }
   ],
   "source": [
    "# Predicting the 1776 image results\n",
    "y_pred= classifier.predict(test1)\n",
    "print(y_pred)"
   ]
  },
  {
   "cell_type": "code",
   "execution_count": 24,
   "metadata": {},
   "outputs": [
    {
     "name": "stdout",
     "output_type": "stream",
     "text": [
      "[2 3 7 0 8 4 3 4 6 5 4 9 8 4 8 9 7 2 7 5 7 7 0 3 7 2 0 5 7 5 5 9 5 4 5 4 9\n",
      " 6 5 7 8 1 3 0 3 9 9 7 7 8 3 7 7 5 1 0 3 6 6 0 9 5 1 2 1 4 6 2 2 8 3 4 1 5\n",
      " 8 4 5 1 9 0 7 6 4 6 7 9 8 1 2 9 8 6 0 1 6 7 9 3 5 3 2 0 2 2 8 1 6 1 4 0 8\n",
      " 4 3 2 6 3 1 9 6 5 5 2 0 5 6 7 1 8 7 4 8 8 1 3 8 2 5 0 3 3 4 8 2 5 1 0 1 8\n",
      " 3 1 0 7 0 0 3 7 8 1 7 5 8 1 8 8 4 5 2 7 3 5 9 2 5 9 1 4 2 9 9 4 6 8 9 9 8\n",
      " 8 9 3 4 0 5 2 6 4 9 4 4 6 3 7 3 4 5 3 1 2 6 1 0 6 5 7 5 0 8 0 1 5 7 0 0 3\n",
      " 3 9 8 4 4 1 1 2 1 7 2 4 6 4 9 1 4 6 0 5 9 3 3 1 9 3 0 1 5 2 3 0 4 9 0 2 3\n",
      " 1 6 9 4 9 1 8 2 6 7 7 3 8 1 1 2 2 0 8 7 9 7 1 4 7 2 1 4 2 6 0 8 0 1 0 7 0\n",
      " 5 5 9 8 5 4 8 1 7 1 5 5 8 4 2 9 2 6 6 8 0 2 9 3 8 2 7 1 0 0 5 9 5 0 0 3 7\n",
      " 0 2 0 8 7 5 1 9 8 6 2 7 4 7 4 2 8 7 1 4 4 4 9 9 6 4 5 3 0 5 9 1 1 9 4 0 3\n",
      " 0 1 3 4 3 3 5 4 5 5 4 3 9 8 1 1 4 7 2 0 2 1 6 7 4 8 9 3 7 6 8 3 7 0 9 0 9\n",
      " 5 4 2 2 5 2 4 6 6 4 1 6 2 0 1 1 9 6 5 1 8 0 9 2 6 6 3 8 0 9 6 8 0 3 8 2 8\n",
      " 2 9 5 6 4 4 4 6 3 6 9 5 2 2 6 8 8 5 3 2 9 3 5 2 0 6 4 7 0 7 2 9 3 7 6 3 5\n",
      " 6 8 3 6 5 4 3 6 9 6 4 7 0 7 4 5 7 3 1 9 9 4 9 2 3 5 8 7 2 3 2 5 4 9 1 7 2\n",
      " 6 9 1 3 1 0 7 5 2 7 1 1 2 2 3 0 0 6 7 5 1 3 5 1 6 1 2 3 6 7 9 7 6 1 7 3 6\n",
      " 0 2 1 2 6 0 4 8 4 5 1 1 5 6 7 9 0 1 9 3 6 6 8 6 7 3 7 0 9 5 3 3 5 0 7 6 8\n",
      " 8 7 1 3 5 6 6]\n"
     ]
    }
   ],
   "source": [
    "# Predicting the Test set results\n",
    "y_pred1 = classifier.predict(X_test)\n",
    "print(y_pred1)"
   ]
  },
  {
   "cell_type": "code",
   "execution_count": 25,
   "metadata": {},
   "outputs": [
    {
     "name": "stdout",
     "output_type": "stream",
     "text": [
      "              precision    recall  f1-score   support\n",
      "\n",
      "           0       1.00      1.00      1.00        59\n",
      "           1       0.94      1.00      0.97        61\n",
      "           2       1.00      1.00      1.00        59\n",
      "           3       0.95      0.97      0.96        61\n",
      "           4       1.00      0.98      0.99        60\n",
      "           5       0.98      1.00      0.99        61\n",
      "           6       1.00      1.00      1.00        60\n",
      "           7       0.98      1.00      0.99        60\n",
      "           8       1.00      0.93      0.96        58\n",
      "           9       1.00      0.97      0.98        60\n",
      "\n",
      "    accuracy                           0.98       599\n",
      "   macro avg       0.99      0.98      0.99       599\n",
      "weighted avg       0.99      0.98      0.98       599\n",
      "\n"
     ]
    }
   ],
   "source": [
    "#precision:total number of correct predictions for a given digit divided by total number of predictions for that digit.\n",
    "#recall:total number of correct predictions for a given digit divided by total number of samples that should have been predicted as that digit\n",
    "#f1-score:average of prescision and recall\n",
    "#support:number of samples with given expected value\n",
    "#F-Measure/f1-score = (2 * Precision * Recall) / (Precision + Recall)\n",
    "#Precision = TruePositives / (TruePositives + FalsePositives)\n",
    "#Recall = TruePositives / (TruePositives + FalseNegatives)\n",
    "from sklearn.metrics import classification_report\n",
    "report=classification_report(y_test,y_pred1)\n",
    "print(report)"
   ]
  },
  {
   "cell_type": "code",
   "execution_count": 26,
   "metadata": {},
   "outputs": [
    {
     "name": "stdout",
     "output_type": "stream",
     "text": [
      "[[59  0  0  0  0  0  0  0  0  0]\n",
      " [ 0 61  0  0  0  0  0  0  0  0]\n",
      " [ 0  0 59  0  0  0  0  0  0  0]\n",
      " [ 0  0  0 59  0  1  0  1  0  0]\n",
      " [ 0  1  0  0 59  0  0  0  0  0]\n",
      " [ 0  0  0  0  0 61  0  0  0  0]\n",
      " [ 0  0  0  0  0  0 60  0  0  0]\n",
      " [ 0  0  0  0  0  0  0 60  0  0]\n",
      " [ 0  3  0  1  0  0  0  0 54  0]\n",
      " [ 0  0  0  2  0  0  0  0  0 58]]\n"
     ]
    }
   ],
   "source": [
    "from sklearn.metrics import confusion_matrix\n",
    "cm=confusion_matrix(y_test,y_pred1)\n",
    "print(cm)"
   ]
  },
  {
   "cell_type": "code",
   "execution_count": 27,
   "metadata": {},
   "outputs": [
    {
     "name": "stdout",
     "output_type": "stream",
     "text": [
      "AxesSubplot(0.125,0.125;0.62x0.755)\n"
     ]
    },
    {
     "data": {
      "image/png": "[encoded data removed]",
      "text/plain": [
       "<Figure size 432x288 with 2 Axes>"
      ]
     },
     "metadata": {
      "needs_background": "light"
     },
     "output_type": "display_data"
    }
   ],
   "source": [
    "import seaborn as sns\n",
    "s=sns.heatmap(cm,annot=True,cmap='Oranges')\n",
    "print(s)\n"
   ]
  },
  {
   "cell_type": "code",
   "execution_count": 28,
   "metadata": {},
   "outputs": [
    {
     "name": "stdout",
     "output_type": "stream",
     "text": [
      " KNN Accuracy: 0.9850\n"
     ]
    }
   ],
   "source": [
    "print(' KNN Accuracy: %.4f'%classifier.score(X_test,y_test))\n",
    "#print(classifier.score(X_test,y_test))"
   ]
  },
  {
   "cell_type": "code",
   "execution_count": 29,
   "metadata": {},
   "outputs": [
    {
     "name": "stdout",
     "output_type": "stream",
     "text": [
      "KNN Accuracy: 0.9850\n"
     ]
    }
   ],
   "source": [
    "from sklearn import metrics\n",
    "acc=metrics.accuracy_score(y_test,y_pred1)\n",
    "print('KNN Accuracy: %.4f'%acc)"
   ]
  },
  {
   "cell_type": "code",
   "execution_count": 30,
   "metadata": {},
   "outputs": [
    {
     "name": "stdout",
     "output_type": "stream",
     "text": [
      "KNN Balanced Accuracy: 0.9848\n"
     ]
    }
   ],
   "source": [
    "acc=metrics.balanced_accuracy_score(y_test,y_pred1)\n",
    "print('KNN Balanced Accuracy: %.4f'%acc)"
   ]
  },
  {
   "cell_type": "markdown",
   "metadata": {},
   "source": [
    "## Method 2. Linear SVM"
   ]
  },
  {
   "cell_type": "code",
   "execution_count": 31,
   "metadata": {},
   "outputs": [
    {
     "data": {
      "text/plain": [
       "SVC(kernel='linear')"
      ]
     },
     "execution_count": 31,
     "metadata": {},
     "output_type": "execute_result"
    }
   ],
   "source": [
    "from sklearn import svm\n",
    "linear_model=svm.SVC(kernel='linear')\n",
    "linear_model.fit(X_train,y_train)"
   ]
  },
  {
   "cell_type": "code",
   "execution_count": 32,
   "metadata": {},
   "outputs": [
    {
     "name": "stdout",
     "output_type": "stream",
     "text": [
      "[2 3 7 0 9 4 5 4 6 5 4 9 8 4 8 9 7 2 7 5 7 7 0 3 7 2 0 5 7 5 5 9 5 4 5 4 9\n",
      " 6 5 7 8 1 3 0 3 9 9 7 7 8 3 7 7 5 1 0 3 6 6 0 9 5 1 2 1 4 6 2 2 8 3 4 1 5\n",
      " 8 4 5 1 9 0 7 6 4 6 7 9 8 1 2 9 8 6 0 1 6 7 9 3 5 3 2 0 2 2 8 1 6 1 4 0 8\n",
      " 4 3 2 6 3 1 9 6 5 5 2 0 5 6 7 1 8 7 4 8 8 1 3 8 2 5 0 3 3 4 8 2 5 1 0 1 8\n",
      " 3 1 0 7 0 0 3 7 8 1 7 5 8 1 5 1 4 5 2 7 3 5 9 2 5 9 1 4 2 9 9 4 6 8 9 9 8\n",
      " 8 9 3 4 0 5 2 6 4 9 4 4 6 3 7 3 4 5 9 1 2 6 1 0 6 5 7 5 0 8 0 1 5 7 0 0 3\n",
      " 3 9 8 4 4 1 1 2 1 7 2 4 6 4 9 1 4 6 0 5 9 3 3 1 9 3 0 1 5 2 3 0 4 9 0 2 3\n",
      " 1 6 9 4 9 1 8 2 6 7 7 3 8 1 1 2 2 0 8 7 9 7 1 4 7 2 1 4 2 6 0 8 0 1 0 7 0\n",
      " 5 5 9 8 5 4 8 1 7 1 5 5 8 4 2 9 2 6 6 1 0 2 9 3 8 2 7 1 0 0 5 9 5 0 0 3 7\n",
      " 0 2 0 8 7 5 1 9 8 6 2 7 4 7 4 2 8 7 1 4 4 4 9 9 6 4 5 3 0 5 9 1 1 9 4 0 3\n",
      " 0 1 3 4 3 3 5 4 5 5 4 3 9 8 1 1 4 7 2 0 2 8 6 7 4 8 9 3 7 6 8 3 7 0 9 0 9\n",
      " 5 4 2 2 5 2 4 6 6 4 1 6 2 0 1 1 9 6 5 1 8 0 9 2 6 1 3 8 0 9 6 8 0 9 8 2 8\n",
      " 2 9 5 6 4 4 4 6 3 6 9 5 2 2 6 8 8 3 3 2 9 3 5 2 0 6 4 7 0 7 2 9 3 7 6 3 5\n",
      " 6 8 3 6 5 4 3 6 9 6 4 7 0 7 4 5 7 3 1 9 9 4 9 2 3 5 8 7 2 3 2 5 4 9 1 7 2\n",
      " 6 9 1 3 1 0 7 5 2 7 1 4 2 2 3 0 0 6 7 5 1 3 5 1 6 1 2 3 6 7 9 7 6 1 7 3 6\n",
      " 0 2 1 2 6 0 4 8 4 5 8 1 5 0 7 9 0 1 9 3 6 6 8 6 7 3 7 0 5 5 3 3 5 0 7 6 8\n",
      " 8 7 1 3 5 6 6]\n"
     ]
    }
   ],
   "source": [
    "y_pred2=linear_model.predict(X_test)\n",
    "print(y_pred2)"
   ]
  },
  {
   "cell_type": "code",
   "execution_count": 33,
   "metadata": {},
   "outputs": [
    {
     "name": "stdout",
     "output_type": "stream",
     "text": [
      "Linear SVM Accuracy: 0.9800\n"
     ]
    }
   ],
   "source": [
    "print('Linear SVM Accuracy: %.4f'%linear_model.score(X_test,y_test))"
   ]
  },
  {
   "cell_type": "code",
   "execution_count": 34,
   "metadata": {},
   "outputs": [
    {
     "name": "stdout",
     "output_type": "stream",
     "text": [
      "Linear SVM Accuracy: 0.9800\n"
     ]
    }
   ],
   "source": [
    "from sklearn import metrics\n",
    "acc=metrics.accuracy_score(y_test,y_pred2)\n",
    "print('Linear SVM Accuracy: %.4f'%acc)"
   ]
  },
  {
   "cell_type": "code",
   "execution_count": 35,
   "metadata": {},
   "outputs": [
    {
     "name": "stdout",
     "output_type": "stream",
     "text": [
      "              precision    recall  f1-score   support\n",
      "\n",
      "           0       0.98      1.00      0.99        59\n",
      "           1       0.94      1.00      0.97        61\n",
      "           2       1.00      1.00      1.00        59\n",
      "           3       0.98      0.97      0.98        61\n",
      "           4       1.00      1.00      1.00        60\n",
      "           5       0.95      1.00      0.98        61\n",
      "           6       1.00      0.97      0.98        60\n",
      "           7       0.98      1.00      0.99        60\n",
      "           8       1.00      0.90      0.95        58\n",
      "           9       0.97      0.97      0.97        60\n",
      "\n",
      "    accuracy                           0.98       599\n",
      "   macro avg       0.98      0.98      0.98       599\n",
      "weighted avg       0.98      0.98      0.98       599\n",
      "\n"
     ]
    }
   ],
   "source": [
    "from sklearn.metrics import classification_report\n",
    "report = classification_report(y_test, y_pred2)\n",
    "print(report)"
   ]
  },
  {
   "cell_type": "markdown",
   "metadata": {},
   "source": [
    "## Method 3. Gaussian Kernal SVM"
   ]
  },
  {
   "cell_type": "code",
   "execution_count": 36,
   "metadata": {},
   "outputs": [
    {
     "data": {
      "text/plain": [
       "SVC()"
      ]
     },
     "execution_count": 36,
     "metadata": {},
     "output_type": "execute_result"
    }
   ],
   "source": [
    "from sklearn import svm\n",
    "kernal_rbf=svm.SVC(kernel='rbf',degree=3,gamma='scale')\n",
    "kernal_rbf.fit(X_train,y_train)"
   ]
  },
  {
   "cell_type": "code",
   "execution_count": 37,
   "metadata": {},
   "outputs": [
    {
     "name": "stdout",
     "output_type": "stream",
     "text": [
      "[2 3 7 0 8 4 8 4 6 5 4 9 8 4 8 9 7 2 7 5 7 7 0 3 7 2 0 5 7 5 5 9 5 4 5 4 9\n",
      " 6 5 7 8 1 3 0 3 9 9 7 7 8 3 7 7 5 1 0 3 6 6 0 9 5 1 2 1 4 6 2 2 8 3 4 1 5\n",
      " 8 4 5 1 9 0 7 6 4 6 7 9 8 1 2 9 8 6 0 1 6 7 9 3 5 3 2 0 2 2 8 1 6 1 4 0 8\n",
      " 4 3 2 6 3 1 9 6 5 5 2 0 5 6 7 1 8 7 4 8 8 1 3 8 2 5 4 9 3 4 8 2 5 1 0 1 8\n",
      " 3 1 0 7 0 0 3 7 8 1 7 5 8 1 8 8 4 5 2 7 3 5 9 2 5 9 1 8 2 9 9 4 6 8 9 9 8\n",
      " 8 9 3 4 0 5 2 6 4 9 4 4 6 3 7 3 4 5 3 1 2 6 1 0 6 5 7 5 0 8 0 1 5 7 0 0 3\n",
      " 3 9 8 8 4 1 1 2 1 7 2 4 6 4 9 1 4 6 0 5 9 3 3 1 9 3 0 1 5 2 3 0 4 9 0 2 3\n",
      " 1 6 9 4 9 1 8 2 6 7 7 3 8 1 1 2 2 0 8 7 9 7 1 4 7 2 1 4 2 6 0 8 0 1 0 7 0\n",
      " 5 5 9 8 5 4 8 1 7 1 5 5 8 4 2 9 2 6 6 1 0 2 9 3 8 2 7 1 0 0 5 9 5 0 0 3 7\n",
      " 0 2 0 8 7 5 1 9 8 6 2 7 4 7 4 2 8 7 1 4 4 4 9 9 6 4 5 3 0 5 9 1 1 9 4 0 3\n",
      " 0 1 3 4 3 3 5 4 5 5 4 3 9 8 1 1 4 7 2 0 2 1 6 7 4 8 9 3 7 6 8 3 7 0 9 0 9\n",
      " 5 4 2 2 5 2 4 6 6 4 1 6 2 0 1 1 9 6 5 1 8 0 9 2 6 6 3 8 0 9 6 8 0 9 8 2 8\n",
      " 2 9 5 6 4 4 4 6 3 6 9 5 2 2 6 8 8 5 3 2 9 3 5 2 0 6 4 7 0 7 2 9 3 7 6 3 5\n",
      " 6 8 3 6 5 4 3 6 9 6 4 7 0 7 4 5 7 3 1 9 9 4 9 2 3 5 8 7 2 3 2 5 4 9 1 7 2\n",
      " 6 9 1 3 1 0 7 5 2 7 1 4 2 2 3 0 0 6 7 5 1 3 5 1 6 1 2 3 6 7 9 7 6 1 7 3 6\n",
      " 0 2 1 2 6 0 4 8 4 5 1 1 5 6 7 9 0 1 9 3 6 6 8 6 7 3 7 0 5 5 3 3 5 0 7 6 8\n",
      " 8 7 1 3 5 6 6]\n"
     ]
    }
   ],
   "source": [
    "y_pred3=kernal_rbf.predict(X_test)\n",
    "print(y_pred3)"
   ]
  },
  {
   "cell_type": "code",
   "execution_count": 38,
   "metadata": {},
   "outputs": [
    {
     "name": "stdout",
     "output_type": "stream",
     "text": [
      "Gaussian Kernal SVM Accuracy: 0.9833\n"
     ]
    }
   ],
   "source": [
    "print('Gaussian Kernal SVM Accuracy: %.4f'%kernal_rbf.score(X_test,y_test))"
   ]
  },
  {
   "cell_type": "code",
   "execution_count": 39,
   "metadata": {},
   "outputs": [
    {
     "name": "stdout",
     "output_type": "stream",
     "text": [
      "Gaussian Kernal SVM Accuracy: 0.9833\n"
     ]
    }
   ],
   "source": [
    "from sklearn import metrics\n",
    "acc=metrics.accuracy_score(y_test,y_pred3)\n",
    "print('Gaussian Kernal SVM Accuracy: %.4f'%acc)"
   ]
  },
  {
   "cell_type": "code",
   "execution_count": 40,
   "metadata": {},
   "outputs": [
    {
     "name": "stdout",
     "output_type": "stream",
     "text": [
      "              precision    recall  f1-score   support\n",
      "\n",
      "           0       1.00      0.98      0.99        59\n",
      "           1       0.94      1.00      0.97        61\n",
      "           2       1.00      1.00      1.00        59\n",
      "           3       1.00      0.97      0.98        61\n",
      "           4       0.98      0.97      0.97        60\n",
      "           5       0.97      1.00      0.98        61\n",
      "           6       1.00      1.00      1.00        60\n",
      "           7       0.98      1.00      0.99        60\n",
      "           8       0.96      0.93      0.95        58\n",
      "           9       1.00      0.98      0.99        60\n",
      "\n",
      "    accuracy                           0.98       599\n",
      "   macro avg       0.98      0.98      0.98       599\n",
      "weighted avg       0.98      0.98      0.98       599\n",
      "\n"
     ]
    }
   ],
   "source": [
    "from sklearn.metrics import classification_report\n",
    "report = classification_report(y_test, y_pred3)\n",
    "print(report)"
   ]
  },
  {
   "cell_type": "markdown",
   "metadata": {},
   "source": [
    "## Method 4. Naive Bayes"
   ]
  },
  {
   "cell_type": "code",
   "execution_count": 41,
   "metadata": {},
   "outputs": [
    {
     "data": {
      "text/plain": [
       "GaussianNB()"
      ]
     },
     "execution_count": 41,
     "metadata": {},
     "output_type": "execute_result"
    }
   ],
   "source": [
    "from sklearn import naive_bayes\n",
    "nb_clf =naive_bayes.GaussianNB()\n",
    "nb_clf.fit(X_train, y_train)"
   ]
  },
  {
   "cell_type": "code",
   "execution_count": 42,
   "metadata": {},
   "outputs": [
    {
     "name": "stdout",
     "output_type": "stream",
     "text": [
      "[2 8 7 0 8 4 8 4 6 5 4 9 8 4 8 9 7 1 7 5 7 7 0 3 7 8 0 5 7 9 5 9 5 4 5 4 9\n",
      " 6 5 7 8 1 2 4 3 9 9 7 7 8 3 7 7 5 1 0 3 6 6 0 8 5 1 8 1 4 6 2 8 8 8 4 1 5\n",
      " 8 4 5 1 9 0 7 6 4 6 7 7 8 1 2 8 8 6 0 1 6 7 8 3 9 3 2 0 8 2 8 8 6 8 4 0 8\n",
      " 4 3 2 6 8 8 9 6 5 5 2 0 5 6 7 1 8 7 4 8 8 1 8 8 2 5 8 3 3 7 8 2 5 8 0 1 8\n",
      " 3 1 0 7 0 0 1 7 8 1 7 5 8 1 8 1 4 5 2 7 3 5 8 8 3 9 8 8 8 9 9 4 6 8 9 9 8\n",
      " 8 9 3 4 0 5 1 6 4 8 4 4 6 8 7 3 4 5 8 1 8 6 1 0 6 5 7 5 0 8 0 1 5 7 0 0 3\n",
      " 3 9 8 8 4 8 1 2 8 7 8 4 6 4 9 1 4 6 0 5 4 3 7 1 7 3 0 8 5 8 3 0 4 0 0 8 3\n",
      " 1 6 9 4 9 1 8 1 6 7 7 3 8 1 1 1 2 0 8 7 9 7 8 4 7 8 8 4 1 6 0 8 0 1 0 7 0\n",
      " 5 5 9 8 5 4 7 1 7 1 5 5 8 4 8 9 8 6 6 1 0 8 9 8 8 2 7 1 0 0 5 8 5 0 0 3 7\n",
      " 0 2 0 8 7 8 1 9 8 6 8 7 4 7 4 2 8 7 1 5 4 4 1 9 6 4 5 3 0 7 9 1 1 9 4 0 1\n",
      " 0 1 3 4 3 8 5 4 5 5 4 3 3 8 2 1 4 7 2 0 2 1 6 7 4 8 6 3 7 6 8 8 7 0 9 4 9\n",
      " 8 4 2 2 5 2 4 6 6 4 1 6 2 0 1 1 1 6 5 1 8 0 8 2 6 6 3 8 0 9 6 8 0 9 8 8 8\n",
      " 3 8 5 6 4 4 4 6 3 6 8 5 2 8 6 8 8 8 3 2 9 3 5 2 0 6 7 7 0 7 8 9 3 7 6 3 5\n",
      " 6 8 7 5 7 4 3 6 9 6 4 7 0 7 4 5 7 3 1 9 9 7 1 8 8 5 8 7 8 8 2 5 4 9 1 7 2\n",
      " 6 9 8 3 1 0 7 5 2 7 1 5 2 8 3 0 0 6 7 5 1 8 5 1 6 1 2 3 6 7 9 7 6 1 7 9 6\n",
      " 0 8 1 2 6 0 4 8 4 8 8 1 5 4 7 7 0 1 9 3 6 6 8 6 7 8 7 0 8 5 8 3 5 0 7 6 8\n",
      " 8 7 1 3 5 6 6]\n"
     ]
    }
   ],
   "source": [
    "# Predicting the Test set results\n",
    "y_pred4 = nb_clf.predict(X_test)\n",
    "print(y_pred4)"
   ]
  },
  {
   "cell_type": "code",
   "execution_count": 43,
   "metadata": {},
   "outputs": [
    {
     "name": "stdout",
     "output_type": "stream",
     "text": [
      "Naive Bayes Accuracy: 0.8230\n"
     ]
    }
   ],
   "source": [
    "print('Naive Bayes Accuracy: %.4f'%nb_clf.score(X_test,y_test))"
   ]
  },
  {
   "cell_type": "code",
   "execution_count": 44,
   "metadata": {},
   "outputs": [
    {
     "name": "stdout",
     "output_type": "stream",
     "text": [
      "Naive Bayes Accuracy: 0.8230\n"
     ]
    }
   ],
   "source": [
    "from sklearn import metrics\n",
    "acc=metrics.accuracy_score(y_test,y_pred4)\n",
    "print('Naive Bayes Accuracy: %.4f'%acc)"
   ]
  },
  {
   "cell_type": "code",
   "execution_count": 45,
   "metadata": {},
   "outputs": [
    {
     "name": "stdout",
     "output_type": "stream",
     "text": [
      "              precision    recall  f1-score   support\n",
      "\n",
      "           0       0.98      0.95      0.97        59\n",
      "           1       0.79      0.82      0.81        61\n",
      "           2       0.94      0.53      0.67        59\n",
      "           3       0.91      0.64      0.75        61\n",
      "           4       0.93      0.88      0.91        60\n",
      "           5       0.95      0.87      0.91        61\n",
      "           6       0.98      0.97      0.97        60\n",
      "           7       0.83      1.00      0.91        60\n",
      "           8       0.46      0.93      0.62        58\n",
      "           9       0.93      0.65      0.76        60\n",
      "\n",
      "    accuracy                           0.82       599\n",
      "   macro avg       0.87      0.82      0.83       599\n",
      "weighted avg       0.87      0.82      0.83       599\n",
      "\n"
     ]
    }
   ],
   "source": [
    "report = classification_report(y_test, y_pred4)\n",
    "print(report)"
   ]
  },
  {
   "cell_type": "markdown",
   "metadata": {},
   "source": [
    "## Method 5. Decision Tree"
   ]
  },
  {
   "cell_type": "code",
   "execution_count": 46,
   "metadata": {},
   "outputs": [
    {
     "data": {
      "text/plain": [
       "DecisionTreeClassifier()"
      ]
     },
     "execution_count": 46,
     "metadata": {},
     "output_type": "execute_result"
    }
   ],
   "source": [
    "from sklearn import tree\n",
    "clf_dt =tree.DecisionTreeClassifier()\n",
    "clf_dt.fit(X_train, y_train)"
   ]
  },
  {
   "cell_type": "code",
   "execution_count": 47,
   "metadata": {},
   "outputs": [
    {
     "name": "stdout",
     "output_type": "stream",
     "text": [
      "[2 3 7 0 8 4 8 8 6 5 4 9 8 4 8 9 7 8 9 5 7 7 0 3 7 2 0 5 7 5 5 9 5 4 5 4 9\n",
      " 6 5 7 8 8 3 6 3 8 9 7 7 8 3 7 7 5 1 0 3 6 6 0 8 5 1 2 3 4 6 2 2 8 3 4 2 5\n",
      " 8 4 5 1 9 0 7 6 4 6 7 7 8 1 2 9 5 6 0 1 6 7 9 3 5 9 2 0 2 1 8 1 6 8 4 0 8\n",
      " 4 3 2 6 3 1 9 6 5 5 2 0 5 6 7 4 1 7 8 8 8 1 3 8 2 5 2 3 3 4 8 2 5 8 0 1 8\n",
      " 3 1 0 7 0 0 3 7 8 1 7 5 8 1 8 8 4 5 2 3 8 5 9 2 9 9 1 9 1 9 9 4 3 8 9 9 1\n",
      " 8 9 3 4 0 5 2 6 4 9 4 4 6 3 7 3 4 5 9 1 2 6 1 0 6 3 7 5 0 9 0 1 5 7 0 0 3\n",
      " 3 9 8 4 4 8 1 2 1 7 2 4 6 4 9 1 4 6 0 5 9 3 7 1 7 3 0 1 5 2 3 0 4 9 0 2 3\n",
      " 1 6 9 4 9 1 8 2 6 7 7 3 8 2 2 9 2 0 8 7 1 7 1 4 7 2 8 4 2 6 0 8 0 1 0 7 0\n",
      " 5 5 8 8 5 4 7 1 7 4 5 5 8 4 2 9 2 6 6 8 0 2 9 8 8 2 7 9 0 0 5 3 5 0 0 3 7\n",
      " 0 2 0 8 7 5 8 9 8 6 2 7 4 7 4 2 8 7 1 4 5 4 7 9 6 4 5 3 0 5 9 1 1 9 8 0 7\n",
      " 0 1 8 4 3 8 5 4 5 5 4 3 9 8 2 8 4 7 2 0 2 8 6 4 4 8 8 3 7 6 8 8 7 0 9 8 9\n",
      " 8 4 2 2 5 2 4 6 6 0 1 6 2 0 1 1 1 6 5 1 8 0 9 7 6 3 3 9 0 9 6 8 0 9 8 8 8\n",
      " 2 9 3 6 6 4 4 6 3 6 3 5 2 2 6 8 8 7 3 2 9 3 5 2 0 6 2 7 0 4 2 9 3 7 6 3 5\n",
      " 4 8 7 6 5 6 3 6 9 6 6 7 0 7 4 5 7 3 1 5 9 4 1 6 8 5 8 7 2 3 2 5 4 9 1 7 2\n",
      " 6 9 8 8 1 0 3 5 2 7 1 5 8 2 3 0 0 6 7 5 1 5 5 1 6 4 2 3 6 7 9 7 5 1 2 3 6\n",
      " 0 2 1 2 6 0 4 9 4 5 8 1 5 4 7 9 0 1 9 3 6 6 8 6 7 3 7 0 6 5 3 5 5 0 7 6 8\n",
      " 8 7 1 3 5 6 6]\n"
     ]
    }
   ],
   "source": [
    "# Predicting the Test set results\n",
    "y_pred5 = clf_dt.predict(X_test)\n",
    "print(y_pred5)"
   ]
  },
  {
   "cell_type": "code",
   "execution_count": 48,
   "metadata": {},
   "outputs": [
    {
     "name": "stdout",
     "output_type": "stream",
     "text": [
      "Decision Tree Accuracy: 0.8481\n"
     ]
    }
   ],
   "source": [
    "print('Decision Tree Accuracy: %.4f'%clf_dt.score(X_test,y_test))"
   ]
  },
  {
   "cell_type": "code",
   "execution_count": 49,
   "metadata": {},
   "outputs": [
    {
     "name": "stdout",
     "output_type": "stream",
     "text": [
      "Decision Tree Accuracy: 0.8481\n"
     ]
    }
   ],
   "source": [
    "from sklearn import metrics\n",
    "acc=metrics.accuracy_score(y_test,y_pred5)\n",
    "print('Decision Tree Accuracy: %.4f'%acc)"
   ]
  },
  {
   "cell_type": "code",
   "execution_count": 50,
   "metadata": {},
   "outputs": [
    {
     "name": "stdout",
     "output_type": "stream",
     "text": [
      "              precision    recall  f1-score   support\n",
      "\n",
      "           0       0.98      0.95      0.97        59\n",
      "           1       0.85      0.72      0.78        61\n",
      "           2       0.88      0.86      0.87        59\n",
      "           3       0.84      0.75      0.79        61\n",
      "           4       0.88      0.82      0.84        60\n",
      "           5       0.89      0.93      0.91        61\n",
      "           6       0.90      0.92      0.91        60\n",
      "           7       0.86      0.92      0.89        60\n",
      "           8       0.65      0.86      0.74        58\n",
      "           9       0.82      0.75      0.78        60\n",
      "\n",
      "    accuracy                           0.85       599\n",
      "   macro avg       0.85      0.85      0.85       599\n",
      "weighted avg       0.85      0.85      0.85       599\n",
      "\n"
     ]
    }
   ],
   "source": [
    "report = classification_report(y_test, y_pred5)\n",
    "print(report)"
   ]
  },
  {
   "cell_type": "markdown",
   "metadata": {},
   "source": [
    "## Method 6. Random Forest"
   ]
  },
  {
   "cell_type": "code",
   "execution_count": 51,
   "metadata": {},
   "outputs": [
    {
     "data": {
      "text/plain": [
       "RandomForestClassifier(n_estimators=300)"
      ]
     },
     "execution_count": 51,
     "metadata": {},
     "output_type": "execute_result"
    }
   ],
   "source": [
    "from sklearn.ensemble import RandomForestClassifier\n",
    "rf = RandomForestClassifier(n_estimators = 300)\n",
    "rf.fit(X_train, y_train)\n"
   ]
  },
  {
   "cell_type": "code",
   "execution_count": 52,
   "metadata": {},
   "outputs": [
    {
     "name": "stdout",
     "output_type": "stream",
     "text": [
      "[2 3 7 0 8 4 3 4 6 5 4 9 8 4 8 9 7 2 7 5 7 7 0 3 7 2 0 5 7 5 5 9 5 4 5 4 9\n",
      " 6 5 7 8 1 3 4 3 9 9 7 7 8 3 7 7 5 1 0 3 6 6 0 9 5 1 2 1 4 6 2 2 8 3 4 1 5\n",
      " 8 4 5 1 9 0 7 6 4 6 7 9 8 1 2 9 8 6 0 1 6 7 9 3 5 3 2 0 2 2 8 1 6 1 4 0 8\n",
      " 4 3 2 6 3 1 9 6 5 5 2 0 5 6 7 1 8 7 4 8 8 1 3 8 2 5 4 9 3 4 8 2 5 1 0 1 8\n",
      " 3 1 0 7 0 0 3 7 8 1 7 5 8 1 8 8 4 5 2 7 3 5 9 2 5 9 1 8 2 9 9 4 6 8 9 9 8\n",
      " 8 9 3 4 0 5 2 6 4 9 4 4 6 3 7 3 4 5 3 1 2 6 1 0 6 5 7 5 0 8 0 1 5 7 0 0 3\n",
      " 3 9 8 7 4 1 1 2 1 7 2 4 6 4 9 1 4 6 0 5 9 3 7 1 9 3 0 1 5 2 3 0 4 9 0 2 3\n",
      " 1 6 9 4 9 1 8 2 6 7 7 3 8 1 1 2 2 0 8 7 9 7 1 4 7 2 1 4 2 6 0 8 0 1 0 7 0\n",
      " 5 5 9 8 5 4 7 1 7 1 5 5 8 4 2 9 2 6 6 8 0 2 9 3 8 2 7 1 0 0 5 3 5 0 0 3 7\n",
      " 0 2 0 8 7 5 1 9 8 6 2 7 4 7 4 2 8 7 1 4 4 4 9 9 6 4 5 3 0 5 9 1 1 9 4 0 3\n",
      " 0 1 3 4 3 3 5 4 5 5 4 3 9 8 1 1 4 7 2 0 2 1 6 7 4 8 9 3 7 6 8 3 7 0 9 0 9\n",
      " 5 4 2 2 5 2 4 6 6 4 1 6 2 0 1 1 1 6 5 1 8 0 9 2 6 6 3 8 0 9 6 8 0 9 8 2 8\n",
      " 2 9 5 6 4 4 4 6 3 6 9 5 2 2 6 8 8 3 3 2 9 3 5 2 0 6 4 7 0 7 2 9 3 7 6 3 5\n",
      " 6 8 7 6 5 4 3 6 9 6 4 7 0 7 4 5 7 3 1 9 9 4 9 2 3 5 8 7 2 3 2 5 4 9 1 7 2\n",
      " 6 9 1 3 1 0 7 5 2 7 1 4 2 2 3 0 0 6 7 5 1 3 5 1 6 1 2 3 6 7 9 7 6 1 7 3 6\n",
      " 0 2 1 2 6 0 4 8 4 5 8 1 5 5 7 9 0 1 9 3 6 6 8 6 7 3 7 0 5 5 3 3 5 0 7 6 8\n",
      " 8 7 1 3 5 6 6]\n"
     ]
    }
   ],
   "source": [
    "# Predicting the Test set results\n",
    "y_pred6= rf.predict(X_test)\n",
    "print(y_pred6)"
   ]
  },
  {
   "cell_type": "code",
   "execution_count": 53,
   "metadata": {},
   "outputs": [
    {
     "name": "stdout",
     "output_type": "stream",
     "text": [
      "Random Forest Accuracy: 0.9750\n"
     ]
    }
   ],
   "source": [
    "print('Random Forest Accuracy: %.4f'%rf.score(X_test,y_test))"
   ]
  },
  {
   "cell_type": "code",
   "execution_count": 54,
   "metadata": {},
   "outputs": [
    {
     "name": "stdout",
     "output_type": "stream",
     "text": [
      "Random Forest Accuracy: 0.9750\n"
     ]
    }
   ],
   "source": [
    "from sklearn import metrics\n",
    "acc=metrics.accuracy_score(y_test,y_pred6)\n",
    "print('Random Forest Accuracy: %.4f'%acc)"
   ]
  },
  {
   "cell_type": "code",
   "execution_count": 55,
   "metadata": {},
   "outputs": [
    {
     "name": "stdout",
     "output_type": "stream",
     "text": [
      "              precision    recall  f1-score   support\n",
      "\n",
      "           0       1.00      0.97      0.98        59\n",
      "           1       0.95      1.00      0.98        61\n",
      "           2       1.00      1.00      1.00        59\n",
      "           3       0.97      0.95      0.96        61\n",
      "           4       0.97      0.97      0.97        60\n",
      "           5       0.97      1.00      0.98        61\n",
      "           6       1.00      0.98      0.99        60\n",
      "           7       0.92      1.00      0.96        60\n",
      "           8       0.98      0.93      0.96        58\n",
      "           9       1.00      0.95      0.97        60\n",
      "\n",
      "    accuracy                           0.97       599\n",
      "   macro avg       0.98      0.97      0.97       599\n",
      "weighted avg       0.98      0.97      0.97       599\n",
      "\n"
     ]
    }
   ],
   "source": [
    "report = classification_report(y_test, y_pred6)\n",
    "print(report)"
   ]
  },
  {
   "cell_type": "markdown",
   "metadata": {
    "collapsed": true
   },
   "source": [
    "## Method 7. Voting Classifier"
   ]
  },
  {
   "cell_type": "code",
   "execution_count": 56,
   "metadata": {},
   "outputs": [],
   "source": [
    "from sklearn.ensemble import VotingClassifier"
   ]
  },
  {
   "cell_type": "code",
   "execution_count": 57,
   "metadata": {},
   "outputs": [
    {
     "name": "stdout",
     "output_type": "stream",
     "text": [
      "[2 3 7 0 8 4 8 4 6 5 4 9 8 4 8 9 7 2 7 5 7 7 0 3 7 2 0 5 7 5 5 9 5 4 5 4 9\n",
      " 6 5 7 8 1 3 0 3 9 9 7 7 8 3 7 7 5 1 0 3 6 6 0 9 5 1 2 1 4 6 2 2 8 3 4 1 5\n",
      " 8 4 5 1 9 0 7 6 4 6 7 9 8 1 2 9 8 6 0 1 6 7 9 3 5 3 2 0 2 2 8 1 6 1 4 0 8\n",
      " 4 3 2 6 3 1 9 6 5 5 2 0 5 6 7 1 8 7 4 8 8 1 3 8 2 5 4 3 3 4 8 2 5 1 0 1 8\n",
      " 3 1 0 7 0 0 3 7 8 1 7 5 8 1 8 8 4 5 2 7 3 5 9 2 5 9 1 4 2 9 9 4 6 8 9 9 8\n",
      " 8 9 3 4 0 5 2 6 4 9 4 4 6 3 7 3 4 5 3 1 2 6 1 0 6 5 7 5 0 8 0 1 5 7 0 0 3\n",
      " 3 9 8 4 4 1 1 2 1 7 2 4 6 4 9 1 4 6 0 5 9 3 3 1 9 3 0 1 5 2 3 0 4 9 0 2 3\n",
      " 1 6 9 4 9 1 8 2 6 7 7 3 8 1 1 2 2 0 8 7 9 7 1 4 7 2 1 4 2 6 0 8 0 1 0 7 0\n",
      " 5 5 9 8 5 4 8 1 7 1 5 5 8 4 2 9 2 6 6 1 0 2 9 3 8 2 7 1 0 0 5 9 5 0 0 3 7\n",
      " 0 2 0 8 7 5 1 9 8 6 2 7 4 7 4 2 8 7 1 4 4 4 9 9 6 4 5 3 0 5 9 1 1 9 4 0 3\n",
      " 0 1 3 4 3 3 5 4 5 5 4 3 9 8 1 1 4 7 2 0 2 1 6 7 4 8 9 3 7 6 8 3 7 0 9 0 9\n",
      " 5 4 2 2 5 2 4 6 6 4 1 6 2 0 1 1 9 6 5 1 8 0 9 2 6 6 3 8 0 9 6 8 0 9 8 2 8\n",
      " 2 9 5 6 4 4 4 6 3 6 9 5 2 2 6 8 8 5 3 2 9 3 5 2 0 6 4 7 0 7 2 9 3 7 6 3 5\n",
      " 6 8 3 6 5 4 3 6 9 6 4 7 0 7 4 5 7 3 1 9 9 4 9 2 3 5 8 7 2 3 2 5 4 9 1 7 2\n",
      " 6 9 1 3 1 0 7 5 2 7 1 4 2 2 3 0 0 6 7 5 1 3 5 1 6 1 2 3 6 7 9 7 6 1 7 3 6\n",
      " 0 2 1 2 6 0 4 8 4 5 8 1 5 6 7 9 0 1 9 3 6 6 8 6 7 3 7 0 5 5 3 3 5 0 7 6 8\n",
      " 8 7 1 3 5 6 6]\n"
     ]
    }
   ],
   "source": [
    "# Instantiate individual classifiers\n",
    "from sklearn import neighbors,svm,naive_bayes,tree,ensemble\n",
    "SEED = 1\n",
    "rf = ensemble.RandomForestClassifier(n_estimators = 300)\n",
    "knn =neighbors.KNeighborsClassifier(n_neighbors = 3, p = 2)\n",
    "dt = tree.DecisionTreeClassifier(random_state = SEED)\n",
    "nb = naive_bayes.GaussianNB()\n",
    "kernal_rbf = svm.SVC(kernel='rbf')\n",
    "kernal_poly = svm.SVC(kernel='poly',degree=3)\n",
    "linear_svm = svm.SVC(kernel='linear')\n",
    "\n",
    "#Define a list called classifier that contains\n",
    "#the tuples (classifier_name, classifier)\n",
    "classifiers = [('Random Forest',rf),\n",
    "               ('K Nearest Neighbours',knn),\n",
    "               ('Classification Tree',dt),\n",
    "               ('Naive',nb),\n",
    "               ('RBF',kernal_rbf),\n",
    "               ('POLY',kernal_poly),\n",
    "               ('SVM',linear_svm)]\n",
    "\n",
    "#Instantiate a VotingClassifier 'vc'\n",
    "vc = VotingClassifier(estimators=classifiers)\n",
    "#Fit 'vc' to the train set\n",
    "vc.fit(X_train,y_train)\n",
    "#Predict test set labels\n",
    "y_pred7 = vc.predict(X_test)\n",
    "print(y_pred7)"
   ]
  },
  {
   "cell_type": "code",
   "execution_count": 58,
   "metadata": {},
   "outputs": [
    {
     "name": "stdout",
     "output_type": "stream",
     "text": [
      "Voting Classifier Accuracy: 0.9866\n"
     ]
    }
   ],
   "source": [
    "print('Voting Classifier Accuracy: %.4f'%vc.score(X_test,y_test))"
   ]
  },
  {
   "cell_type": "code",
   "execution_count": 59,
   "metadata": {},
   "outputs": [
    {
     "name": "stdout",
     "output_type": "stream",
     "text": [
      "Voting Classifier Accuracy: 0.9866\n"
     ]
    }
   ],
   "source": [
    "from sklearn import metrics\n",
    "acc=metrics.accuracy_score(y_test,y_pred7)\n",
    "print('Voting Classifier Accuracy: %.4f'%acc)"
   ]
  },
  {
   "cell_type": "code",
   "execution_count": 60,
   "metadata": {},
   "outputs": [
    {
     "name": "stdout",
     "output_type": "stream",
     "text": [
      "              precision    recall  f1-score   support\n",
      "\n",
      "           0       1.00      0.98      0.99        59\n",
      "           1       0.95      1.00      0.98        61\n",
      "           2       1.00      1.00      1.00        59\n",
      "           3       0.98      0.97      0.98        61\n",
      "           4       0.98      1.00      0.99        60\n",
      "           5       0.97      1.00      0.98        61\n",
      "           6       1.00      1.00      1.00        60\n",
      "           7       0.98      1.00      0.99        60\n",
      "           8       1.00      0.95      0.97        58\n",
      "           9       1.00      0.97      0.98        60\n",
      "\n",
      "    accuracy                           0.99       599\n",
      "   macro avg       0.99      0.99      0.99       599\n",
      "weighted avg       0.99      0.99      0.99       599\n",
      "\n"
     ]
    }
   ],
   "source": [
    "report = classification_report(y_test, y_pred7)\n",
    "print(report)"
   ]
  },
  {
   "cell_type": "markdown",
   "metadata": {
    "collapsed": true
   },
   "source": [
    "## Method 8. Bagging"
   ]
  },
  {
   "cell_type": "code",
   "execution_count": 61,
   "metadata": {},
   "outputs": [],
   "source": [
    "from sklearn.ensemble import BaggingClassifier\n",
    "from sklearn import neighbors\n",
    "# Instantiate a classifier KNN\n",
    "knn = neighbors.KNeighborsClassifier(n_neighbors = 3, p = 2)\n",
    "# Instantiate a BaggingClassifier 'bc'\n",
    "bc = BaggingClassifier(base_estimator=knn, n_estimators = 100,\n",
    "                       n_jobs=-1)"
   ]
  },
  {
   "cell_type": "code",
   "execution_count": 62,
   "metadata": {},
   "outputs": [
    {
     "name": "stdout",
     "output_type": "stream",
     "text": [
      "[2 3 7 0 8 4 3 4 6 5 4 9 8 4 8 9 7 2 7 5 7 7 0 3 7 2 0 5 7 5 5 9 5 4 5 4 9\n",
      " 6 5 7 8 1 3 0 3 9 9 7 7 8 3 7 7 5 1 0 3 6 6 0 9 5 1 2 1 4 6 2 2 8 3 4 1 5\n",
      " 8 4 5 1 9 0 7 6 4 6 7 9 8 1 2 9 8 6 0 1 6 7 9 3 5 3 2 0 2 2 8 1 6 1 4 0 8\n",
      " 4 3 2 6 3 1 9 6 5 5 2 0 5 6 7 1 8 7 4 8 8 1 3 8 2 5 0 3 3 4 8 2 5 1 0 1 8\n",
      " 3 1 0 7 0 0 3 7 8 1 7 5 8 1 8 8 4 5 2 7 3 5 9 2 5 9 1 4 2 9 9 4 6 8 9 9 8\n",
      " 8 9 3 4 0 5 2 6 4 9 4 4 6 3 7 3 4 5 3 1 2 6 1 0 6 5 7 5 0 8 0 1 5 7 0 0 3\n",
      " 3 9 8 4 4 1 1 2 1 7 2 4 6 4 9 1 4 6 0 5 9 3 3 1 9 3 0 1 5 2 3 0 4 9 0 2 3\n",
      " 1 6 9 4 9 1 8 2 6 7 7 3 8 1 1 2 2 0 8 7 9 7 1 4 7 2 1 4 2 6 0 8 0 1 0 7 0\n",
      " 5 5 9 8 5 4 8 1 7 1 5 5 8 4 2 9 2 6 6 8 0 2 9 3 8 2 7 1 0 0 5 9 5 0 0 3 7\n",
      " 0 2 0 8 7 5 1 9 8 6 2 7 4 7 4 2 8 7 1 4 4 4 9 9 6 4 5 3 0 5 9 1 1 9 4 0 3\n",
      " 0 1 3 4 3 3 5 4 5 5 4 3 9 8 1 1 4 7 2 0 2 1 6 7 4 8 9 3 7 6 8 3 7 0 9 0 9\n",
      " 5 4 2 2 5 2 4 6 6 4 1 6 2 0 1 1 9 6 5 1 8 0 9 2 6 6 3 8 0 9 6 8 0 3 8 2 8\n",
      " 2 9 5 6 4 4 4 6 3 6 9 5 2 2 6 8 8 5 3 2 9 3 5 2 0 6 4 7 0 7 2 9 3 7 6 3 5\n",
      " 6 8 3 6 5 4 3 6 9 6 4 7 0 7 4 5 7 3 1 9 9 4 9 2 3 5 8 7 2 3 2 5 4 9 1 7 2\n",
      " 6 9 1 3 1 0 7 5 2 7 1 4 2 2 3 0 0 6 7 5 1 3 5 1 6 1 2 3 6 7 9 7 6 1 7 3 6\n",
      " 0 2 1 2 6 0 4 8 4 5 8 1 5 6 7 9 0 1 9 3 6 6 8 6 7 3 7 0 9 5 3 3 5 0 7 6 8\n",
      " 8 7 1 3 5 6 6]\n"
     ]
    }
   ],
   "source": [
    "#Fit 'bc' to the train set\n",
    "bc.fit(X_train,y_train)\n",
    "#Predict test set labels\n",
    "y_pred8 = bc.predict(X_test)\n",
    "print(y_pred8)"
   ]
  },
  {
   "cell_type": "code",
   "execution_count": 63,
   "metadata": {},
   "outputs": [
    {
     "name": "stdout",
     "output_type": "stream",
     "text": [
      "Bagging Accuracy: 0.9883\n"
     ]
    }
   ],
   "source": [
    "print('Bagging Accuracy: %.4f'%bc.score(X_test,y_test))"
   ]
  },
  {
   "cell_type": "code",
   "execution_count": 64,
   "metadata": {},
   "outputs": [
    {
     "name": "stdout",
     "output_type": "stream",
     "text": [
      "Bagging Accuracy: 0.9883\n"
     ]
    }
   ],
   "source": [
    "from sklearn import metrics\n",
    "acc=metrics.accuracy_score(y_test,y_pred8)\n",
    "print('Bagging Accuracy: %.4f'%acc)"
   ]
  },
  {
   "cell_type": "code",
   "execution_count": 65,
   "metadata": {},
   "outputs": [
    {
     "name": "stdout",
     "output_type": "stream",
     "text": [
      "              precision    recall  f1-score   support\n",
      "\n",
      "           0       1.00      1.00      1.00        59\n",
      "           1       0.97      1.00      0.98        61\n",
      "           2       1.00      1.00      1.00        59\n",
      "           3       0.95      0.97      0.96        61\n",
      "           4       1.00      1.00      1.00        60\n",
      "           5       0.98      1.00      0.99        61\n",
      "           6       1.00      1.00      1.00        60\n",
      "           7       0.98      1.00      0.99        60\n",
      "           8       1.00      0.95      0.97        58\n",
      "           9       1.00      0.97      0.98        60\n",
      "\n",
      "    accuracy                           0.99       599\n",
      "   macro avg       0.99      0.99      0.99       599\n",
      "weighted avg       0.99      0.99      0.99       599\n",
      "\n"
     ]
    }
   ],
   "source": [
    "report = classification_report(y_test, y_pred8)\n",
    "print(report)"
   ]
  },
  {
   "cell_type": "markdown",
   "metadata": {
    "collapsed": true
   },
   "source": [
    "## Step 3: Accuracy Results Table "
   ]
  },
  {
   "cell_type": "markdown",
   "metadata": {
    "collapsed": true
   },
   "source": [
    "<table>\n",
    "    <thead>\n",
    "        <tr>\n",
    "            <th></th>\n",
    "            <th>KNN</th>\n",
    "            <th>L_SVM</th>\n",
    "            <th>RBF_SVM</th>\n",
    "            <th>NB</th>\n",
    "            <th>DT</th>\n",
    "            <th>RF</th>\n",
    "            <th>Voting</th>\n",
    "            <th>Bagging</th>\n",
    "        </tr>\n",
    "    </thead>\n",
    "    <tbody>\n",
    "        <tr>\n",
    "            <td>Accuracy</td>\n",
    "            <td> 0.9850 </td>\n",
    "            <td> 0.9800 </td>\n",
    "            <td> 0.9833 </td>\n",
    "            <td> 0.8230 </td>\n",
    "            <td> 0.8230 </td>\n",
    "            <td> 0.9699 </td>\n",
    "            <td> 0.9866 </td>\n",
    "            <td> 0.9866 </td>\n",
    "        </tr>\n",
    "        <tr>\n",
    "            <td>Weighted Precision</td>\n",
    "            <td> 0.99 </td>\n",
    "            <td> 0.98 </td>\n",
    "            <td> 0.98 </td>\n",
    "            <td> 0.87 </td>\n",
    "            <td> 0.84 </td>\n",
    "            <td> 0.97 </td>\n",
    "            <td> 0.99 </td>\n",
    "            <td> 0.99 </td>\n",
    "        </tr>\n",
    "        <tr>\n",
    "            <td>Weighted Recall</td>\n",
    "            <td> 0.98 </td>\n",
    "            <td> 0.98 </td>\n",
    "            <td> 0.98 </td>\n",
    "            <td> 0.82 </td>\n",
    "            <td> 0.84 </td>\n",
    "            <td> 0.97 </td>\n",
    "            <td> 0.99 </td>\n",
    "            <td> 0.99 </td>\n",
    "        </tr>\n",
    "    </tbody>\n",
    "</table>"
   ]
  },
  {
   "cell_type": "markdown",
   "metadata": {},
   "source": [
    "## Step 4: Conclusion"
   ]
  },
  {
   "cell_type": "code",
   "execution_count": 66,
   "metadata": {},
   "outputs": [
    {
     "ename": "SyntaxError",
     "evalue": "invalid syntax (<ipython-input-66-8642b7b1aac4>, line 1)",
     "output_type": "error",
     "traceback": [
      "\u001b[1;36m  File \u001b[1;32m\"<ipython-input-66-8642b7b1aac4>\"\u001b[1;36m, line \u001b[1;32m1\u001b[0m\n\u001b[1;33m    Accuracy: (True Positive + True Negative) / Total Population\u001b[0m\n\u001b[1;37m                           ^\u001b[0m\n\u001b[1;31mSyntaxError\u001b[0m\u001b[1;31m:\u001b[0m invalid syntax\n"
     ]
    }
   ],
   "source": [
    "Accuracy: (True Positive + True Negative) / Total Population\n",
    "Accuracy is a ratio of correctly predicted observation to the total observations.\n",
    "Accuracy is the most intuitive performance measure.\n",
    "True Positive: The number of correct predictions that the occurrence is positive\n",
    "True Negative: The number of correct predictions that the occurrence is negative"
   ]
  },
  {
   "cell_type": "code",
   "execution_count": null,
   "metadata": {},
   "outputs": [],
   "source": [
    "F1-Score: (2 x Precision x Recall) / (Precision + Recall)\n",
    "F1-Score is the weighted average of Precision and Recall used in all types of classification algorithms. Therefore, this score takes both false positives and false negatives into account.\n",
    "F1-Score is usually more useful than accuracy, especially if you have an uneven class distribution.\n",
    "Precision: When a positive value is predicted, how often is the prediction correct?\n",
    "Recall: When the actual value is positive, how often is the prediction correct?"
   ]
  },
  {
   "cell_type": "code",
   "execution_count": null,
   "metadata": {},
   "outputs": [],
   "source": [
    "precision:total number of correct predictions for a given digit divided by total number of predictions for that digit.\n",
    "recall:total number of correct predictions for a given digit divided by total number of samples that should have been predicted as that digit\n",
    "f1-score:average of prescision and recall\n",
    "support:number of samples with given expected value\n",
    "F-Measure/f1-score = (2 * Precision * Recall) / (Precision + Recall)\n",
    "Precision = TruePositives / (TruePositives + FalsePositives)\n",
    "Recall = TruePositives / (TruePositives + FalseNegatives)"
   ]
  },
  {
   "cell_type": "code",
   "execution_count": null,
   "metadata": {},
   "outputs": [],
   "source": [
    " The Voting and Bagging classifiers are best compared to other classifiers to predict handwritten digital images based on accuracy"
   ]
  },
  {
   "cell_type": "code",
   "execution_count": null,
   "metadata": {},
   "outputs": [],
   "source": [
    "After Voting and Bagging Classifiers KNN classifier is best to predict handwritten digits images"
   ]
  },
  {
   "cell_type": "code",
   "execution_count": null,
   "metadata": {
    "collapsed": true
   },
   "outputs": [],
   "source": [
    "The Decision Tree and Navies Bayes Clasification models have least accuracy and their prediction accuracy is least comparted to other classifiers"
   ]
  },
  {
   "cell_type": "code",
   "execution_count": null,
   "metadata": {
    "collapsed": true
   },
   "outputs": [],
   "source": []
  }
 ],
 "metadata": {
  "kernelspec": {
   "display_name": "Python 3",
   "language": "python",
   "name": "python3"
  },
  "language_info": {
   "codemirror_mode": {
    "name": "ipython",
    "version": 3
   },
   "file_extension": ".py",
   "mimetype": "text/x-python",
   "name": "python",
   "nbconvert_exporter": "python",
   "pygments_lexer": "ipython3",
   "version": "3.7.7"
  }
 },
 "nbformat": 4,
 "nbformat_minor": 2
}
